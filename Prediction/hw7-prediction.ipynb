{
 "cells": [
  {
   "cell_type": "code",
   "execution_count": 75,
   "metadata": {
    "deletable": false,
    "editable": false
   },
   "outputs": [],
   "source": [
    "# Initialize Otter Grader\n",
    "import otter\n",
    "grader = otter.Notebook()"
   ]
  },
  {
   "cell_type": "markdown",
   "metadata": {},
   "source": [
    "# Homework 7: Building a Classifier\n",
    "## IEOR 135/290, Data-X: Applied Data Ventures\n",
    "**Author:** Sudarshan Gopalakrishnan | UC Berkeley, B.S. EECS'21 (in collaboration with Ikhlaq Sidhu). Updated Fall 2020 by Johann Schleier-Smith."
   ]
  },
  {
   "cell_type": "markdown",
   "metadata": {},
   "source": [
    "___\n",
    "\n",
    "#### NAME:  Haojuan He\n",
    "\n",
    "#### STUDENT ID: 3033721461\n",
    "___"
   ]
  },
  {
   "cell_type": "code",
   "execution_count": 76,
   "metadata": {},
   "outputs": [
    {
     "name": "stdout",
     "output_type": "stream",
     "text": [
      "Collecting package metadata (current_repodata.json): done\n",
      "Solving environment: done\n",
      "\n",
      "# All requested packages already installed.\n",
      "\n"
     ]
    }
   ],
   "source": [
    "import pandas as pd\n",
    "import numpy as np\n",
    "from sklearn.model_selection import train_test_split\n",
    "\n",
    "import sklearn\n",
    "\n",
    "import seaborn as sns\n",
    "import matplotlib.pyplot as plt\n",
    "%matplotlib inline\n",
    "\n",
    "\n",
    "from sklearn.compose import ColumnTransformer\n",
    "from sklearn.pipeline import Pipeline, make_pipeline\n",
    "from sklearn.preprocessing import StandardScaler, OneHotEncoder, KBinsDiscretizer, FunctionTransformer\n",
    "\n",
    "from sklearn.linear_model import LogisticRegression\n",
    "from sklearn.svm import SVC, LinearSVC\n",
    "from sklearn.ensemble import RandomForestClassifier\n",
    "from sklearn.neighbors import KNeighborsClassifier\n",
    "from sklearn.naive_bayes import GaussianNB\n",
    "from sklearn.linear_model import Perceptron\n",
    "from sklearn.linear_model import SGDClassifier\n",
    "from sklearn.tree import DecisionTreeClassifier\n",
    "!conda install py-xgboost --y\n",
    "import xgboost as xgb"
   ]
  },
  {
   "cell_type": "markdown",
   "metadata": {},
   "source": [
    "# Objective\n",
    "The purpose of this homework is to walk you through the data science cycle towards building a classical machine learning model.\n",
    "\n",
    "In this homework, you will do the following:\n",
    "* Explore the provided dataset\n",
    "* Develop visualizations\n",
    "* Formulate the hypothesis\n",
    "* Clean and reformat the dataset to help you build a predictive model\n",
    "* Develop features\n",
    "* Build a predictive model"
   ]
  },
  {
   "cell_type": "markdown",
   "metadata": {},
   "source": [
    "You are working with CalBank to build a classifier that will help them determine whether a loan profile is likely to be Fully Paid or Charged Off (i.e. written off given under the assumption that it won't be paid back)."
   ]
  },
  {
   "cell_type": "code",
   "execution_count": 77,
   "metadata": {},
   "outputs": [
    {
     "data": {
      "text/html": [
       "<div>\n",
       "<style scoped>\n",
       "    .dataframe tbody tr th:only-of-type {\n",
       "        vertical-align: middle;\n",
       "    }\n",
       "\n",
       "    .dataframe tbody tr th {\n",
       "        vertical-align: top;\n",
       "    }\n",
       "\n",
       "    .dataframe thead th {\n",
       "        text-align: right;\n",
       "    }\n",
       "</style>\n",
       "<table border=\"1\" class=\"dataframe\">\n",
       "  <thead>\n",
       "    <tr style=\"text-align: right;\">\n",
       "      <th></th>\n",
       "      <th>Loan ID</th>\n",
       "      <th>Customer ID</th>\n",
       "      <th>Loan Status</th>\n",
       "      <th>Current Loan Amount</th>\n",
       "      <th>Term</th>\n",
       "      <th>Credit Score</th>\n",
       "      <th>Annual Income</th>\n",
       "      <th>Years in current job</th>\n",
       "      <th>Home Ownership</th>\n",
       "      <th>Purpose</th>\n",
       "      <th>Monthly Debt</th>\n",
       "      <th>Years of Credit History</th>\n",
       "      <th>Months since last delinquent</th>\n",
       "      <th>Number of Open Accounts</th>\n",
       "      <th>Number of Credit Problems</th>\n",
       "      <th>Current Credit Balance</th>\n",
       "      <th>Maximum Open Credit</th>\n",
       "      <th>Bankruptcies</th>\n",
       "      <th>Tax Liens</th>\n",
       "    </tr>\n",
       "  </thead>\n",
       "  <tbody>\n",
       "    <tr>\n",
       "      <th>0</th>\n",
       "      <td>14dd8831-6af5-400b-83ec-68e61888a048</td>\n",
       "      <td>981165ec-3274-42f5-a3b4-d104041a9ca9</td>\n",
       "      <td>Fully Paid</td>\n",
       "      <td>445412.0</td>\n",
       "      <td>Short Term</td>\n",
       "      <td>709.0</td>\n",
       "      <td>1167493.0</td>\n",
       "      <td>8 years</td>\n",
       "      <td>Home Mortgage</td>\n",
       "      <td>Home Improvements</td>\n",
       "      <td>5214.74</td>\n",
       "      <td>17.2</td>\n",
       "      <td>NaN</td>\n",
       "      <td>6.0</td>\n",
       "      <td>1.0</td>\n",
       "      <td>228190.0</td>\n",
       "      <td>416746.0</td>\n",
       "      <td>1.0</td>\n",
       "      <td>0.0</td>\n",
       "    </tr>\n",
       "    <tr>\n",
       "      <th>1</th>\n",
       "      <td>4771cc26-131a-45db-b5aa-537ea4ba5342</td>\n",
       "      <td>2de017a3-2e01-49cb-a581-08169e83be29</td>\n",
       "      <td>Fully Paid</td>\n",
       "      <td>262328.0</td>\n",
       "      <td>Short Term</td>\n",
       "      <td>NaN</td>\n",
       "      <td>NaN</td>\n",
       "      <td>10+ years</td>\n",
       "      <td>Home Mortgage</td>\n",
       "      <td>Debt Consolidation</td>\n",
       "      <td>33295.98</td>\n",
       "      <td>21.1</td>\n",
       "      <td>8.0</td>\n",
       "      <td>35.0</td>\n",
       "      <td>0.0</td>\n",
       "      <td>229976.0</td>\n",
       "      <td>850784.0</td>\n",
       "      <td>0.0</td>\n",
       "      <td>0.0</td>\n",
       "    </tr>\n",
       "    <tr>\n",
       "      <th>2</th>\n",
       "      <td>4eed4e6a-aa2f-4c91-8651-ce984ee8fb26</td>\n",
       "      <td>5efb2b2b-bf11-4dfd-a572-3761a2694725</td>\n",
       "      <td>Fully Paid</td>\n",
       "      <td>99999999.0</td>\n",
       "      <td>Short Term</td>\n",
       "      <td>741.0</td>\n",
       "      <td>2231892.0</td>\n",
       "      <td>8 years</td>\n",
       "      <td>Own Home</td>\n",
       "      <td>Debt Consolidation</td>\n",
       "      <td>29200.53</td>\n",
       "      <td>14.9</td>\n",
       "      <td>29.0</td>\n",
       "      <td>18.0</td>\n",
       "      <td>1.0</td>\n",
       "      <td>297996.0</td>\n",
       "      <td>750090.0</td>\n",
       "      <td>0.0</td>\n",
       "      <td>0.0</td>\n",
       "    </tr>\n",
       "    <tr>\n",
       "      <th>3</th>\n",
       "      <td>77598f7b-32e7-4e3b-a6e5-06ba0d98fe8a</td>\n",
       "      <td>e777faab-98ae-45af-9a86-7ce5b33b1011</td>\n",
       "      <td>Fully Paid</td>\n",
       "      <td>347666.0</td>\n",
       "      <td>Long Term</td>\n",
       "      <td>721.0</td>\n",
       "      <td>806949.0</td>\n",
       "      <td>3 years</td>\n",
       "      <td>Own Home</td>\n",
       "      <td>Debt Consolidation</td>\n",
       "      <td>8741.90</td>\n",
       "      <td>12.0</td>\n",
       "      <td>NaN</td>\n",
       "      <td>9.0</td>\n",
       "      <td>0.0</td>\n",
       "      <td>256329.0</td>\n",
       "      <td>386958.0</td>\n",
       "      <td>0.0</td>\n",
       "      <td>0.0</td>\n",
       "    </tr>\n",
       "    <tr>\n",
       "      <th>4</th>\n",
       "      <td>d4062e70-befa-4995-8643-a0de73938182</td>\n",
       "      <td>81536ad9-5ccf-4eb8-befb-47a4d608658e</td>\n",
       "      <td>Fully Paid</td>\n",
       "      <td>176220.0</td>\n",
       "      <td>Short Term</td>\n",
       "      <td>NaN</td>\n",
       "      <td>NaN</td>\n",
       "      <td>5 years</td>\n",
       "      <td>Rent</td>\n",
       "      <td>Debt Consolidation</td>\n",
       "      <td>20639.70</td>\n",
       "      <td>6.1</td>\n",
       "      <td>NaN</td>\n",
       "      <td>15.0</td>\n",
       "      <td>0.0</td>\n",
       "      <td>253460.0</td>\n",
       "      <td>427174.0</td>\n",
       "      <td>0.0</td>\n",
       "      <td>0.0</td>\n",
       "    </tr>\n",
       "  </tbody>\n",
       "</table>\n",
       "</div>"
      ],
      "text/plain": [
       "                                Loan ID                           Customer ID  \\\n",
       "0  14dd8831-6af5-400b-83ec-68e61888a048  981165ec-3274-42f5-a3b4-d104041a9ca9   \n",
       "1  4771cc26-131a-45db-b5aa-537ea4ba5342  2de017a3-2e01-49cb-a581-08169e83be29   \n",
       "2  4eed4e6a-aa2f-4c91-8651-ce984ee8fb26  5efb2b2b-bf11-4dfd-a572-3761a2694725   \n",
       "3  77598f7b-32e7-4e3b-a6e5-06ba0d98fe8a  e777faab-98ae-45af-9a86-7ce5b33b1011   \n",
       "4  d4062e70-befa-4995-8643-a0de73938182  81536ad9-5ccf-4eb8-befb-47a4d608658e   \n",
       "\n",
       "  Loan Status  Current Loan Amount        Term  Credit Score  Annual Income  \\\n",
       "0  Fully Paid             445412.0  Short Term         709.0      1167493.0   \n",
       "1  Fully Paid             262328.0  Short Term           NaN            NaN   \n",
       "2  Fully Paid           99999999.0  Short Term         741.0      2231892.0   \n",
       "3  Fully Paid             347666.0   Long Term         721.0       806949.0   \n",
       "4  Fully Paid             176220.0  Short Term           NaN            NaN   \n",
       "\n",
       "  Years in current job Home Ownership             Purpose  Monthly Debt  \\\n",
       "0              8 years  Home Mortgage   Home Improvements       5214.74   \n",
       "1            10+ years  Home Mortgage  Debt Consolidation      33295.98   \n",
       "2              8 years       Own Home  Debt Consolidation      29200.53   \n",
       "3              3 years       Own Home  Debt Consolidation       8741.90   \n",
       "4              5 years           Rent  Debt Consolidation      20639.70   \n",
       "\n",
       "   Years of Credit History  Months since last delinquent  \\\n",
       "0                     17.2                           NaN   \n",
       "1                     21.1                           8.0   \n",
       "2                     14.9                          29.0   \n",
       "3                     12.0                           NaN   \n",
       "4                      6.1                           NaN   \n",
       "\n",
       "   Number of Open Accounts  Number of Credit Problems  Current Credit Balance  \\\n",
       "0                      6.0                        1.0                228190.0   \n",
       "1                     35.0                        0.0                229976.0   \n",
       "2                     18.0                        1.0                297996.0   \n",
       "3                      9.0                        0.0                256329.0   \n",
       "4                     15.0                        0.0                253460.0   \n",
       "\n",
       "   Maximum Open Credit  Bankruptcies  Tax Liens  \n",
       "0             416746.0           1.0        0.0  \n",
       "1             850784.0           0.0        0.0  \n",
       "2             750090.0           0.0        0.0  \n",
       "3             386958.0           0.0        0.0  \n",
       "4             427174.0           0.0        0.0  "
      ]
     },
     "execution_count": 77,
     "metadata": {},
     "output_type": "execute_result"
    }
   ],
   "source": [
    "data = pd.read_csv(\"hw_data.csv\")\n",
    "data.head()"
   ]
  },
  {
   "cell_type": "markdown",
   "metadata": {},
   "source": [
    "# Part 1: Data Cleaning\n",
    "In this part, we will guide you through cleaning the dataset and prepare it for data exploration."
   ]
  },
  {
   "cell_type": "markdown",
   "metadata": {},
   "source": [
    "### **Question 1**: What are some potential problems with the above dataset? "
   ]
  },
  {
   "cell_type": "markdown",
   "metadata": {},
   "source": [
    "1.In several rows, there are Nan value.\n",
    "2.Also another poential problems is that soke column might haveb all null value, so it should be dropped when processing the dataset.\n",
    "3.Also, some of the input value might be incorrect. SUch us in the loan section we might see some default input value such as $999,9999,99"
   ]
  },
  {
   "cell_type": "markdown",
   "metadata": {},
   "source": [
    "### **Question 2**: Several columns have missing data. Discuss how you would deal with missing data in each column, implement the changes and save it in the variable 'data_clean'"
   ]
  },
  {
   "cell_type": "markdown",
   "metadata": {},
   "source": [
    "* **Loan ID:** drop rows with NaN value. This column should no longer have np.Nan attribute in cells. Also use this to drop all the duplicate columns and rows in the dataframe\n",
    "* **Customer ID:** drop rows with NaN value. This column should no longer have np.Nan attribute in cells\n",
    "* **Loan Status:** drop rows with NaN value. This column should no longer have np.Nan attribute in cells\n",
    "* **Current Loan Amount:** drop rows with NaN value. This column should no longer have np.Nan attribute in cells. Also drop all the out-liers that have a value larger than 1 million dollar\n",
    "* **Term:** drop rows with NaN value. This column should no longer have np.Nan attribute in cells\n",
    "* **Credit Score:** drop rows with NaN value. This column should no longer have np.Nan attribute in cells. Also reduce the credit score that are larger than 850 by one digit.\n",
    "* **Annual Income:** drop rows with NaN value. This column should no longer have np.Nan attribute in cells\n",
    "* **Years in current job:** drop rows with NaN value. This column should no longer have np.Nan attribute in cells\n",
    "* **Home Ownership:** drop rows with NaN value. This column should no longer have np.Nan attribute in cells\n",
    "* **Purpose:** drop rows with NaN value. This column should no longer have np.Nan attribute in cells\n",
    "* **Monthly Debt:** drop rows with NaN value. This column should no longer have np.Nan attribute in cells\n",
    "* **Years of Credit History:** drop rows with NaN value. This column should no longer have np.Nan attribute in cells\n",
    "* **Number of Credit Problems:** drop rows with NaN value. This column should no longer have np.Nan attribute in cells\n",
    "* **Current Credit Balance:** drop rows with NaN value. This column should no longer have np.Nan attribute in cells\n",
    "* **Maximum Open Credit:** drop rows with NaN value. This column should no longer have np.Nan attribute in cells\n",
    "* **Bankruptcies:** *drop rows with NaN value. This column should no longer have np.Nan attribute in cells\n",
    "* **Tax Liens:** drop rows with NaN value. This column should no longer have np.Nan attribute in cells\n"
   ]
  },
  {
   "cell_type": "code",
   "execution_count": 78,
   "metadata": {},
   "outputs": [],
   "source": [
    "# Do your data cleaning here\n",
    "#data_clean = ..."
   ]
  },
  {
   "cell_type": "code",
   "execution_count": 79,
   "metadata": {},
   "outputs": [
    {
     "name": "stdout",
     "output_type": "stream",
     "text": [
      "Loan ID\n",
      "Customer ID\n",
      "Loan Status\n",
      "Current Loan Amount\n",
      "Term\n",
      "Credit Score\n",
      "Annual Income\n",
      "Years in current job\n",
      "Home Ownership\n",
      "Purpose\n",
      "Monthly Debt\n",
      "Years of Credit History\n",
      "Months since last delinquent\n",
      "Number of Open Accounts\n",
      "Number of Credit Problems\n",
      "Current Credit Balance\n",
      "Maximum Open Credit\n",
      "Bankruptcies\n",
      "Tax Liens\n"
     ]
    },
    {
     "data": {
      "text/plain": [
       "(88987, 19)"
      ]
     },
     "execution_count": 79,
     "metadata": {},
     "output_type": "execute_result"
    }
   ],
   "source": [
    "for column in data.columns:\n",
    "    if data[column].isnull().values.any():\n",
    "        print(column)\n",
    "data.shape"
   ]
  },
  {
   "cell_type": "markdown",
   "metadata": {
    "deletable": false,
    "editable": false
   },
   "source": [
    "<!--\n",
    "BEGIN QUESTION\n",
    "name: q2a_cleaning_any_nan\n",
    "manual: false\n",
    "points: 1\n",
    "-->"
   ]
  },
  {
   "cell_type": "markdown",
   "metadata": {},
   "source": [
    "Here we have found out all the columns that contain NaN value, so our next step is to drop every cell in those cells (rows) that contain the Nan value."
   ]
  },
  {
   "cell_type": "code",
   "execution_count": 80,
   "metadata": {},
   "outputs": [
    {
     "data": {
      "text/plain": [
       "(88473, 19)"
      ]
     },
     "execution_count": 80,
     "metadata": {},
     "output_type": "execute_result"
    }
   ],
   "source": [
    "data_rows = data.dropna(how='all', axis=0)\n",
    "#drop rows that contain only all Nan value\n",
    "#(this code cleaned the rows that have no significant information)\n",
    "#data_nonnan = data_rows.dropna(how='any',axis = 0)\n",
    "#drop rows that contain only any Nan value\n",
    "data_rows.shape"
   ]
  },
  {
   "cell_type": "markdown",
   "metadata": {},
   "source": [
    "Compare to the shape of the new dataframe to the previous dataframe, we can confirm that our new dataframe is significantly lower in row number"
   ]
  },
  {
   "cell_type": "code",
   "execution_count": 81,
   "metadata": {},
   "outputs": [
    {
     "name": "stdout",
     "output_type": "stream",
     "text": [
      "Credit Score\n",
      "Annual Income\n",
      "Years in current job\n",
      "Months since last delinquent\n",
      "Maximum Open Credit\n",
      "Bankruptcies\n",
      "Tax Liens\n"
     ]
    }
   ],
   "source": [
    "for column in data_rows.columns:\n",
    "    if data_rows[column].isnull().values.any():\n",
    "        print(column)\n"
   ]
  },
  {
   "cell_type": "markdown",
   "metadata": {},
   "source": [
    "Here the printing statement does not print anything, so it confirm that we don't have any cells that have nan value.\n",
    "Out next step is then to find out all the duplicate customn id number."
   ]
  },
  {
   "cell_type": "code",
   "execution_count": 82,
   "metadata": {},
   "outputs": [
    {
     "data": {
      "text/plain": [
       "2"
      ]
     },
     "execution_count": 82,
     "metadata": {},
     "output_type": "execute_result"
    }
   ],
   "source": [
    "duplicates = data_rows.groupby('Customer ID').size()\n",
    "duplicate_ids = duplicates[duplicates > 1].index\n",
    "max(duplicates.values)\n",
    "#len(duplicate_ids)\n",
    "#replicator = data_rows[data_rows['Customer ID'] == duplicate_ids[1]].T\n",
    "#replicator\n",
    "#dicton = {'A':0,'B':0}\n",
    "#max(dicton)"
   ]
  },
  {
   "cell_type": "markdown",
   "metadata": {},
   "source": [
    "This means that each customer ID is replicates at most 2 times"
   ]
  },
  {
   "cell_type": "code",
   "execution_count": 83,
   "metadata": {},
   "outputs": [],
   "source": [
    "for i in range(len(duplicate_ids)):\n",
    "    replicator = data_rows[data_rows['Customer ID'] == duplicate_ids[i]].T\n",
    "    #find all rows that wth that customer ID and them transpose it so we can later on calculate the Nan value in that row\n",
    "    row_dic = {}\n",
    "    for each in replicator.columns:\n",
    "        row_dic[each] = sum(replicator[each].isna())\n",
    "    most_nan = max(row_dic)\n",
    "    data_rows = data_rows.drop(index=most_nan, axis='index')\n"
   ]
  },
  {
   "cell_type": "code",
   "execution_count": 84,
   "metadata": {},
   "outputs": [
    {
     "data": {
      "text/plain": [
       "(71999, 19)"
      ]
     },
     "execution_count": 84,
     "metadata": {},
     "output_type": "execute_result"
    }
   ],
   "source": [
    "data_rows.shape"
   ]
  },
  {
   "cell_type": "markdown",
   "metadata": {},
   "source": [
    "now all the duplicate rows are dropped"
   ]
  },
  {
   "cell_type": "code",
   "execution_count": 85,
   "metadata": {},
   "outputs": [],
   "source": [
    "data_nonnan = data_rows.dropna(how='any',axis = 0)\n",
    "#drop rows that contain any Nan value"
   ]
  },
  {
   "cell_type": "code",
   "execution_count": 86,
   "metadata": {},
   "outputs": [],
   "source": [
    "data_temp = data_nonnan.copy()"
   ]
  },
  {
   "cell_type": "code",
   "execution_count": 87,
   "metadata": {},
   "outputs": [
    {
     "name": "stdout",
     "output_type": "stream",
     "text": [
      "(24998, 19)\n"
     ]
    }
   ],
   "source": [
    "print(data_nonnan.shape)\n",
    "for column in data_nonnan.columns:\n",
    "    if data_nonnan[column].isnull().values.any():\n",
    "        print(column)\n"
   ]
  },
  {
   "cell_type": "markdown",
   "metadata": {},
   "source": [
    "after cleaning all the Nan values and the duplicate rows, we then need to fix the input errors that are in the credit score columns. The highes credit score is 850, to it's reasonable to reduce any score that are higher than 850 by 1 digit."
   ]
  },
  {
   "cell_type": "code",
   "execution_count": 88,
   "metadata": {},
   "outputs": [
    {
     "data": {
      "text/plain": [
       "751.0"
      ]
     },
     "execution_count": 88,
     "metadata": {},
     "output_type": "execute_result"
    }
   ],
   "source": [
    "credit = data_nonnan['Credit Score']\n",
    "fix_input = [i if i <= 850 else int(i) / 10 for i in credit ]\n",
    "data_temp['Credit Score'] = fix_input\n",
    "max(fix_input)"
   ]
  },
  {
   "cell_type": "markdown",
   "metadata": {},
   "source": [
    "Now we have fixed all the accidentally incorrect input of the credit score columns, we then head to clean the column amount columns.since lonas that is larger than 1 million are really rare and should be treated as outliers. We drop those rows that have the super large amount of loan."
   ]
  },
  {
   "cell_type": "code",
   "execution_count": 91,
   "metadata": {},
   "outputs": [
    {
     "data": {
      "text/plain": [
       "(21271, 19)"
      ]
     },
     "execution_count": 91,
     "metadata": {},
     "output_type": "execute_result"
    }
   ],
   "source": [
    "data_nonout = data_temp[data_temp['Current Loan Amount'] <=1000000]\n",
    "data_nonout.shape"
   ]
  },
  {
   "cell_type": "code",
   "execution_count": 92,
   "metadata": {},
   "outputs": [],
   "source": [
    "data_clean = data_nonout"
   ]
  },
  {
   "cell_type": "code",
   "execution_count": 93,
   "metadata": {
    "deletable": false,
    "editable": false
   },
   "outputs": [
    {
     "data": {
      "text/html": [
       "\n",
       "    \n",
       "    \n",
       "        <p>All tests passed!</p>\n",
       "    \n",
       "    "
      ],
      "text/plain": [
       "\n",
       "    All tests passed!\n",
       "    "
      ]
     },
     "execution_count": 93,
     "metadata": {},
     "output_type": "execute_result"
    }
   ],
   "source": [
    "grader.check(\"q2a_cleaning_any_nan\")"
   ]
  },
  {
   "cell_type": "markdown",
   "metadata": {
    "deletable": false,
    "editable": false
   },
   "source": [
    "<!--\n",
    "BEGIN QUESTION\n",
    "name: q2b_cleaning_duplicate_rows\n",
    "manual: false\n",
    "points: 1\n",
    "-->"
   ]
  },
  {
   "cell_type": "code",
   "execution_count": 94,
   "metadata": {
    "deletable": false,
    "editable": false
   },
   "outputs": [
    {
     "data": {
      "text/html": [
       "\n",
       "    \n",
       "    \n",
       "        <p>All tests passed!</p>\n",
       "    \n",
       "    "
      ],
      "text/plain": [
       "\n",
       "    All tests passed!\n",
       "    "
      ]
     },
     "execution_count": 94,
     "metadata": {},
     "output_type": "execute_result"
    }
   ],
   "source": [
    "grader.check(\"q2b_cleaning_duplicate_rows\")"
   ]
  },
  {
   "cell_type": "markdown",
   "metadata": {
    "deletable": false,
    "editable": false
   },
   "source": [
    "<!--\n",
    "BEGIN QUESTION\n",
    "name: q2c_cleaning_credit_score\n",
    "manual: false\n",
    "points: 1\n",
    "-->"
   ]
  },
  {
   "cell_type": "code",
   "execution_count": 95,
   "metadata": {
    "deletable": false,
    "editable": false
   },
   "outputs": [
    {
     "data": {
      "text/html": [
       "\n",
       "    \n",
       "    \n",
       "        <p>All tests passed!</p>\n",
       "    \n",
       "    "
      ],
      "text/plain": [
       "\n",
       "    All tests passed!\n",
       "    "
      ]
     },
     "execution_count": 95,
     "metadata": {},
     "output_type": "execute_result"
    }
   ],
   "source": [
    "grader.check(\"q2c_cleaning_credit_score\")"
   ]
  },
  {
   "cell_type": "markdown",
   "metadata": {
    "deletable": false,
    "editable": false
   },
   "source": [
    "<!--\n",
    "BEGIN QUESTION\n",
    "name: q2d_cleaning_loan_amount\n",
    "manual: false\n",
    "points: 1\n",
    "-->"
   ]
  },
  {
   "cell_type": "code",
   "execution_count": 96,
   "metadata": {
    "deletable": false,
    "editable": false
   },
   "outputs": [
    {
     "data": {
      "text/html": [
       "\n",
       "    \n",
       "    \n",
       "        <p>All tests passed!</p>\n",
       "    \n",
       "    "
      ],
      "text/plain": [
       "\n",
       "    All tests passed!\n",
       "    "
      ]
     },
     "execution_count": 96,
     "metadata": {},
     "output_type": "execute_result"
    }
   ],
   "source": [
    "grader.check(\"q2d_cleaning_loan_amount\")"
   ]
  },
  {
   "cell_type": "markdown",
   "metadata": {
    "deletable": false,
    "editable": false
   },
   "source": [
    "<!--\n",
    "BEGIN QUESTION\n",
    "name: q2e_cleaning_columns\n",
    "manual: false\n",
    "points: 1\n",
    "-->"
   ]
  },
  {
   "cell_type": "code",
   "execution_count": 97,
   "metadata": {
    "deletable": false,
    "editable": false
   },
   "outputs": [
    {
     "data": {
      "text/html": [
       "\n",
       "    \n",
       "    \n",
       "        <p>All tests passed!</p>\n",
       "    \n",
       "    "
      ],
      "text/plain": [
       "\n",
       "    All tests passed!\n",
       "    "
      ]
     },
     "execution_count": 97,
     "metadata": {},
     "output_type": "execute_result"
    }
   ],
   "source": [
    "grader.check(\"q2e_cleaning_columns\")"
   ]
  },
  {
   "cell_type": "markdown",
   "metadata": {},
   "source": [
    "# Part 2: Data Exploration"
   ]
  },
  {
   "cell_type": "markdown",
   "metadata": {},
   "source": [
    "### **Question 3:** Create three interesting visualizations that will help you build a hypothesis.\n",
    "\n",
    "Feel free to create cells to analyse the data and build your understanding. Use the questions below to help you get started:\n",
    "* What are some numerical indicators that point towards a charged-off loan?\n",
    "* How does the purpose of the loan impact the loan application? \n",
    "* How does the house ownership status impact the loan application?\n",
    "\n",
    "Once you analyse the dataset, create your visualizations. This part will be graded manually."
   ]
  },
  {
   "cell_type": "markdown",
   "metadata": {},
   "source": [
    "**Visualization 1**"
   ]
  },
  {
   "cell_type": "markdown",
   "metadata": {},
   "source": [
    "**What insights does this visualization offer?**\n",
    "\n",
    "This insights offer the relatiolnship and correlation of the home ownership status and the probability of an applied loan application being charged off. From the graph, we can see that people who rent the house have the highest probability of getting denied for loan application, while people who already have mortage have the loest probability of getting denied of a loan application. "
   ]
  },
  {
   "cell_type": "markdown",
   "metadata": {},
   "source": [
    "-------------------"
   ]
  },
  {
   "cell_type": "code",
   "execution_count": 116,
   "metadata": {},
   "outputs": [
    {
     "name": "stdout",
     "output_type": "stream",
     "text": [
      "['Fully Paid' 'Charged Off']\n"
     ]
    },
    {
     "data": {
      "text/plain": [
       "Text(0.5, 1.0, 'Probability of Getting Charged Off Given Home Ownership Status')"
      ]
     },
     "execution_count": 116,
     "metadata": {},
     "output_type": "execute_result"
    },
    {
     "data": {
      "image/png": "[encoded data removed]",
      "text/plain": [
       "<Figure size 432x288 with 1 Axes>"
      ]
     },
     "metadata": {
      "needs_background": "light"
     },
     "output_type": "display_data"
    }
   ],
   "source": [
    "##How does the house ownership status impact the loan application?\n",
    "visual = data_clean.copy()\n",
    "visual.head()\n",
    "status = visual['Loan Status']\n",
    "print(visual['Loan Status'].unique())\n",
    "loan_stat = [1 if i == 'Charged Off' else 0 for i in status]\n",
    "visual['charged_off'] = loan_stat\n",
    "home_ownership = visual.groupby('Home Ownership').mean()['charged_off']\n",
    "x = home_ownership.index\n",
    "y = home_ownership.values\n",
    "plt.bar(x, y)\n",
    "plt.xlabel(\"Home Ownership Status\")\n",
    "plt.ylabel(\"Probability of Being Charged Off\")\n",
    "plt.title(\"Probability of Getting Charged Off Given Home Ownership Status\")"
   ]
  },
  {
   "cell_type": "markdown",
   "metadata": {},
   "source": [
    "**Visualization 2**"
   ]
  },
  {
   "cell_type": "markdown",
   "metadata": {},
   "source": [
    "**What insights does this visualization offer?**\n",
    "\n",
    "This insights offer how the total number of past credit problems might affect the probability of the loan being charged off and the loan application being denied. From the graph, we can see that number of past credit problems does not have much influence of the probability of loan getting charged off when the problems are lower than 3 times. However, if the problems are greater than 3, the more past credit problem a person has, the more likely the person's loan(application) will get charged off. And we can see a threshold when the problems are greater than 8 times that the person will extremely likely to get denied for a loan application (loan being charged off)"
   ]
  },
  {
   "cell_type": "code",
   "execution_count": 154,
   "metadata": {},
   "outputs": [
    {
     "data": {
      "text/plain": [
       "Text(0.5, 1.0, 'Number of Credit Problems & Probability of being charged off')"
      ]
     },
     "execution_count": 154,
     "metadata": {},
     "output_type": "execute_result"
    },
    {
     "data": {
      "image/png": "[encoded data removed]",
      "text/plain": [
       "<Figure size 432x288 with 1 Axes>"
      ]
     },
     "metadata": {
      "needs_background": "light"
     },
     "output_type": "display_data"
    }
   ],
   "source": [
    "## measure the how number of credit problems in the past are likely to influence the loan status\n",
    "years= visual['Years of Credit History']\n",
    "loan_year = [int(i) for i in years]\n",
    "visual['loan_year'] = loan_year\n",
    "average_year_of_history = visual.groupby('Number of Credit Problems').mean()['charged_off']\n",
    "x_h = average_year_of_history.index\n",
    "y_h = average_year_of_history.values\n",
    "plt.bar(x_h, y_h)\n",
    "plt.xlabel(\"Number of Credit Problems\")\n",
    "plt.ylabel(\"Probability of being charged off\")\n",
    "plt.title(\"Number of Credit Problems & Probability of being charged off\")"
   ]
  },
  {
   "cell_type": "markdown",
   "metadata": {},
   "source": [
    "------------------------"
   ]
  },
  {
   "cell_type": "markdown",
   "metadata": {},
   "source": [
    "**Visualization 3**"
   ]
  },
  {
   "cell_type": "markdown",
   "metadata": {},
   "source": [
    "**What insights does this visualization offer?**\n",
    "\n",
    "This insights offer how the total years in current job might affect the probability of the loan being charged off and the loan application being denied. We can conclude that the total years in current job does not have a strong relationship with the probability of the loan being charged off. As we can see across all the different times in the current job, the probability of the loan being charged off doesn't vary much."
   ]
  },
  {
   "cell_type": "code",
   "execution_count": 151,
   "metadata": {},
   "outputs": [
    {
     "data": {
      "text/plain": [
       "Text(0.5, 1.0, 'Years in Current Job & Probability of being charged off')"
      ]
     },
     "execution_count": 151,
     "metadata": {},
     "output_type": "execute_result"
    },
    {
     "data": {
      "image/png": "[encoded data removed]",
      "text/plain": [
       "<Figure size 1440x360 with 1 Axes>"
      ]
     },
     "metadata": {
      "needs_background": "light"
     },
     "output_type": "display_data"
    }
   ],
   "source": [
    "##the total years in current job & the probability of the loan being charged off\n",
    "income = visual['Annual Income']\n",
    "credit_score = [int(np.log(i)) for i in income]\n",
    "visual['credit_score'] = credit_score\n",
    "average_year_of_history = visual.groupby('Years in current job').mean()['charged_off']\n",
    "x = average_year_of_history.index\n",
    "y = average_year_of_history.values\n",
    "plt.figure(figsize=(20,5))\n",
    "plt.bar(x, y)\n",
    "plt.xlabel(\"Years in Current Job\")\n",
    "plt.ylabel(\"Probability of being charged off\")\n",
    "plt.title(\"Years in Current Job & Probability of being charged off\")"
   ]
  },
  {
   "cell_type": "markdown",
   "metadata": {},
   "source": [
    "### **Question 4:** What is your hypothesis?"
   ]
  },
  {
   "cell_type": "markdown",
   "metadata": {},
   "source": [
    "My hypothesis is that the number of past credit problems can help predict the probability that a credit loan being charged off. Especially if the past credit problem has exceed 8 times."
   ]
  },
  {
   "cell_type": "markdown",
   "metadata": {},
   "source": [
    "### **Question 5:** Analyze the dataset and make an inference about your hypothesis."
   ]
  },
  {
   "cell_type": "code",
   "execution_count": 157,
   "metadata": {},
   "outputs": [
    {
     "data": {
      "text/plain": [
       "Text(0.5, 1.0, 'Number of Credit Problems & Probability of being charged off')"
      ]
     },
     "execution_count": 157,
     "metadata": {},
     "output_type": "execute_result"
    },
    {
     "data": {
      "image/png": "[encoded data removed]",
      "text/plain": [
       "<Figure size 432x288 with 1 Axes>"
      ]
     },
     "metadata": {
      "needs_background": "light"
     },
     "output_type": "display_data"
    }
   ],
   "source": [
    "# Write the code for your analysis hereplt.bar(x, y)\n",
    "plt.scatter(x_h, y_h)\n",
    "plt.xlabel(\"Number of Credit Problems\")\n",
    "plt.ylabel(\"Probability of being charged off\")\n",
    "plt.title(\"Number of Credit Problems & Probability of being charged off\")\n"
   ]
  },
  {
   "cell_type": "code",
   "execution_count": 159,
   "metadata": {},
   "outputs": [
    {
     "name": "stdout",
     "output_type": "stream",
     "text": [
      "                            OLS Regression Results                            \n",
      "==============================================================================\n",
      "Dep. Variable:                pro_off   R-squared:                       0.004\n",
      "Model:                            OLS   Adj. R-squared:                 -0.121\n",
      "Method:                 Least Squares   F-statistic:                   0.03156\n",
      "Date:                Tue, 27 Oct 2020   Prob (F-statistic):              0.863\n",
      "Time:                        05:01:47   Log-Likelihood:                -1.4283\n",
      "No. Observations:                  10   AIC:                             6.857\n",
      "Df Residuals:                       8   BIC:                             7.462\n",
      "Df Model:                           1                                         \n",
      "Covariance Type:            nonrobust                                         \n",
      "==============================================================================\n",
      "                 coef    std err          t      P>|t|      [0.025      0.975]\n",
      "------------------------------------------------------------------------------\n",
      "Intercept      0.3089      0.157      1.964      0.085      -0.054       0.672\n",
      "num_probs     -0.0042      0.024     -0.178      0.863      -0.058       0.050\n",
      "==============================================================================\n",
      "Omnibus:                       11.816   Durbin-Watson:                   2.786\n",
      "Prob(Omnibus):                  0.003   Jarque-Bera (JB):                5.401\n",
      "Skew:                           1.521   Prob(JB):                       0.0672\n",
      "Kurtosis:                       4.924   Cond. No.                         10.8\n",
      "==============================================================================\n",
      "\n",
      "Warnings:\n",
      "[1] Standard Errors assume that the covariance matrix of the errors is correctly specified.\n"
     ]
    },
    {
     "name": "stderr",
     "output_type": "stream",
     "text": [
      "/opt/anaconda3/lib/python3.7/site-packages/scipy/stats/stats.py:1535: UserWarning: kurtosistest only valid for n>=20 ... continuing anyway, n=10\n",
      "  \"anyway, n=%i\" % int(n))\n"
     ]
    }
   ],
   "source": [
    "regressiondata = {'num_probs':x_h, 'pro_off':y_h} \n",
    "regressiondf = pd.DataFrame(regressiondata)\n",
    "import statsmodels.formula.api as sm\n",
    "result = sm.ols(formula=\"pro_off ~ num_probs\", data=regressiondf).fit()\n",
    "print(result.summary())"
   ]
  },
  {
   "cell_type": "markdown",
   "metadata": {},
   "source": [
    "*Enter your conclusion here*\n",
    "Here when we look at the visualization of the graph, with some out-laier, the rest of the past credit problem and the probability of the loan getting charged off might have a linear relationship. Assuming all the OLS assumption hold true, we can try to run a least-squared linear regression. From the summary printed above, we can see that our slope of the coefficient is -0.0042, which is unlikely consider each additional increase in problem should review a worst credit habit of a applicator, and the R^2 is only 0.004. This means that our model does not fit the data well and we can see that with a t value of -0.178, with a significant level of either 1% or 5%, we fall to reject the null hypothesis (number of past history problem does not have an impact to the probability of the loan getting charged off). Thus, we can conclude that at a inference of 5% significant level, we fail to reject the null hypothesis and that the number of past practice problem does not help predicting the probability of a loan getting charged off."
   ]
  },
  {
   "cell_type": "markdown",
   "metadata": {},
   "source": [
    "# Part 3: Preprocessing and Feature Engineering"
   ]
  },
  {
   "cell_type": "markdown",
   "metadata": {},
   "source": [
    " The objective you are working towards is building a classifier that will allow you to classify whether a loan will be fully paid or charged off using some or all of the following pieces of data: \n",
    "* Loan ID\n",
    "* Customer ID\n",
    "* Loan Status\n",
    "* Current Loan Amount\n",
    "* Term\n",
    "* Credit Score\n",
    "* Annual Income\n",
    "* Years in current job\n",
    "* Home Ownership\n",
    "* Purpose\n",
    "* Monthly Debt\n",
    "* Years of Credit History\n",
    "* Months since last delinquent\n",
    "* Number of Open Accounts\n",
    "* Number of Credit Problems\n",
    "* Current Credit Balance\n",
    "* Maximum Open Credit\n",
    "* Bankruptcies\n",
    "* Tax Liens\n",
    "\n",
    "This notebook contains a reference implementation that uses *Number of Open Accounts*, *Monthly Debt*, *Bankruptcies*, and *Home Ownership* to predict *Loan Status*. These features are not sufficient to achieve the accuracy threshold required for this assignment. You should use this code as an example and a scaffold for your own solution. "
   ]
  },
  {
   "cell_type": "code",
   "execution_count": 123,
   "metadata": {},
   "outputs": [
    {
     "data": {
      "text/html": [
       "<div>\n",
       "<style scoped>\n",
       "    .dataframe tbody tr th:only-of-type {\n",
       "        vertical-align: middle;\n",
       "    }\n",
       "\n",
       "    .dataframe tbody tr th {\n",
       "        vertical-align: top;\n",
       "    }\n",
       "\n",
       "    .dataframe thead th {\n",
       "        text-align: right;\n",
       "    }\n",
       "</style>\n",
       "<table border=\"1\" class=\"dataframe\">\n",
       "  <thead>\n",
       "    <tr style=\"text-align: right;\">\n",
       "      <th></th>\n",
       "      <th>Loan ID</th>\n",
       "      <th>Customer ID</th>\n",
       "      <th>Loan Status</th>\n",
       "      <th>Current Loan Amount</th>\n",
       "      <th>Term</th>\n",
       "      <th>Credit Score</th>\n",
       "      <th>Annual Income</th>\n",
       "      <th>Years in current job</th>\n",
       "      <th>Home Ownership</th>\n",
       "      <th>Purpose</th>\n",
       "      <th>...</th>\n",
       "      <th>Years of Credit History</th>\n",
       "      <th>Months since last delinquent</th>\n",
       "      <th>Number of Open Accounts</th>\n",
       "      <th>Number of Credit Problems</th>\n",
       "      <th>Current Credit Balance</th>\n",
       "      <th>Maximum Open Credit</th>\n",
       "      <th>Bankruptcies</th>\n",
       "      <th>Tax Liens</th>\n",
       "      <th>charged_off</th>\n",
       "      <th>loan_year</th>\n",
       "    </tr>\n",
       "  </thead>\n",
       "  <tbody>\n",
       "    <tr>\n",
       "      <th>5</th>\n",
       "      <td>273581de-85d8-4332-81a5-19b04ce68666</td>\n",
       "      <td>90a75dde-34d5-419c-90dc-1e58b04b3e35</td>\n",
       "      <td>Fully Paid</td>\n",
       "      <td>217646.0</td>\n",
       "      <td>Short Term</td>\n",
       "      <td>730.0</td>\n",
       "      <td>1184194.0</td>\n",
       "      <td>&lt; 1 year</td>\n",
       "      <td>Home Mortgage</td>\n",
       "      <td>Debt Consolidation</td>\n",
       "      <td>...</td>\n",
       "      <td>19.6</td>\n",
       "      <td>10.0</td>\n",
       "      <td>13.0</td>\n",
       "      <td>1.0</td>\n",
       "      <td>122170.0</td>\n",
       "      <td>272052.0</td>\n",
       "      <td>1.0</td>\n",
       "      <td>0.0</td>\n",
       "      <td>0</td>\n",
       "      <td>19</td>\n",
       "    </tr>\n",
       "    <tr>\n",
       "      <th>6</th>\n",
       "      <td>8af915d9-9e91-44a0-b5a2-564a45c12089</td>\n",
       "      <td>af534dea-d27e-4fd6-9de8-efaa52a78ec0</td>\n",
       "      <td>Fully Paid</td>\n",
       "      <td>548746.0</td>\n",
       "      <td>Short Term</td>\n",
       "      <td>678.0</td>\n",
       "      <td>2559110.0</td>\n",
       "      <td>2 years</td>\n",
       "      <td>Rent</td>\n",
       "      <td>Debt Consolidation</td>\n",
       "      <td>...</td>\n",
       "      <td>22.6</td>\n",
       "      <td>33.0</td>\n",
       "      <td>4.0</td>\n",
       "      <td>0.0</td>\n",
       "      <td>437171.0</td>\n",
       "      <td>555038.0</td>\n",
       "      <td>0.0</td>\n",
       "      <td>0.0</td>\n",
       "      <td>0</td>\n",
       "      <td>22</td>\n",
       "    </tr>\n",
       "    <tr>\n",
       "      <th>12</th>\n",
       "      <td>2e841c8f-3dc1-464d-91c1-3d3d51e64c38</td>\n",
       "      <td>2ac05980-7848-4692-89ae-9321afe650f8</td>\n",
       "      <td>Fully Paid</td>\n",
       "      <td>234124.0</td>\n",
       "      <td>Short Term</td>\n",
       "      <td>727.0</td>\n",
       "      <td>693234.0</td>\n",
       "      <td>10+ years</td>\n",
       "      <td>Rent</td>\n",
       "      <td>Debt Consolidation</td>\n",
       "      <td>...</td>\n",
       "      <td>24.7</td>\n",
       "      <td>46.0</td>\n",
       "      <td>10.0</td>\n",
       "      <td>1.0</td>\n",
       "      <td>28291.0</td>\n",
       "      <td>107052.0</td>\n",
       "      <td>1.0</td>\n",
       "      <td>0.0</td>\n",
       "      <td>0</td>\n",
       "      <td>24</td>\n",
       "    </tr>\n",
       "    <tr>\n",
       "      <th>14</th>\n",
       "      <td>24e8c8bd-d10b-4dac-8b81-1da470ff5ecb</td>\n",
       "      <td>967e8733-7189-49b7-a3ab-6a1d0e1abdac</td>\n",
       "      <td>Fully Paid</td>\n",
       "      <td>666204.0</td>\n",
       "      <td>Long Term</td>\n",
       "      <td>723.0</td>\n",
       "      <td>1821967.0</td>\n",
       "      <td>10+ years</td>\n",
       "      <td>Home Mortgage</td>\n",
       "      <td>Debt Consolidation</td>\n",
       "      <td>...</td>\n",
       "      <td>22.0</td>\n",
       "      <td>34.0</td>\n",
       "      <td>15.0</td>\n",
       "      <td>0.0</td>\n",
       "      <td>813694.0</td>\n",
       "      <td>2004618.0</td>\n",
       "      <td>0.0</td>\n",
       "      <td>0.0</td>\n",
       "      <td>0</td>\n",
       "      <td>22</td>\n",
       "    </tr>\n",
       "    <tr>\n",
       "      <th>17</th>\n",
       "      <td>150ebbad-ebed-441e-b70d-2f350ad7dca6</td>\n",
       "      <td>40f729c9-54c7-4768-9fb5-2fa41d074c48</td>\n",
       "      <td>Charged Off</td>\n",
       "      <td>317108.0</td>\n",
       "      <td>Long Term</td>\n",
       "      <td>687.0</td>\n",
       "      <td>1133274.0</td>\n",
       "      <td>8 years</td>\n",
       "      <td>Rent</td>\n",
       "      <td>Debt Consolidation</td>\n",
       "      <td>...</td>\n",
       "      <td>17.4</td>\n",
       "      <td>53.0</td>\n",
       "      <td>4.0</td>\n",
       "      <td>0.0</td>\n",
       "      <td>60287.0</td>\n",
       "      <td>126940.0</td>\n",
       "      <td>0.0</td>\n",
       "      <td>0.0</td>\n",
       "      <td>1</td>\n",
       "      <td>17</td>\n",
       "    </tr>\n",
       "  </tbody>\n",
       "</table>\n",
       "<p>5 rows × 21 columns</p>\n",
       "</div>"
      ],
      "text/plain": [
       "                                 Loan ID  \\\n",
       "5   273581de-85d8-4332-81a5-19b04ce68666   \n",
       "6   8af915d9-9e91-44a0-b5a2-564a45c12089   \n",
       "12  2e841c8f-3dc1-464d-91c1-3d3d51e64c38   \n",
       "14  24e8c8bd-d10b-4dac-8b81-1da470ff5ecb   \n",
       "17  150ebbad-ebed-441e-b70d-2f350ad7dca6   \n",
       "\n",
       "                             Customer ID  Loan Status  Current Loan Amount  \\\n",
       "5   90a75dde-34d5-419c-90dc-1e58b04b3e35   Fully Paid             217646.0   \n",
       "6   af534dea-d27e-4fd6-9de8-efaa52a78ec0   Fully Paid             548746.0   \n",
       "12  2ac05980-7848-4692-89ae-9321afe650f8   Fully Paid             234124.0   \n",
       "14  967e8733-7189-49b7-a3ab-6a1d0e1abdac   Fully Paid             666204.0   \n",
       "17  40f729c9-54c7-4768-9fb5-2fa41d074c48  Charged Off             317108.0   \n",
       "\n",
       "          Term  Credit Score  Annual Income Years in current job  \\\n",
       "5   Short Term         730.0      1184194.0             < 1 year   \n",
       "6   Short Term         678.0      2559110.0              2 years   \n",
       "12  Short Term         727.0       693234.0            10+ years   \n",
       "14   Long Term         723.0      1821967.0            10+ years   \n",
       "17   Long Term         687.0      1133274.0              8 years   \n",
       "\n",
       "   Home Ownership             Purpose  ...  Years of Credit History  \\\n",
       "5   Home Mortgage  Debt Consolidation  ...                     19.6   \n",
       "6            Rent  Debt Consolidation  ...                     22.6   \n",
       "12           Rent  Debt Consolidation  ...                     24.7   \n",
       "14  Home Mortgage  Debt Consolidation  ...                     22.0   \n",
       "17           Rent  Debt Consolidation  ...                     17.4   \n",
       "\n",
       "    Months since last delinquent  Number of Open Accounts  \\\n",
       "5                           10.0                     13.0   \n",
       "6                           33.0                      4.0   \n",
       "12                          46.0                     10.0   \n",
       "14                          34.0                     15.0   \n",
       "17                          53.0                      4.0   \n",
       "\n",
       "    Number of Credit Problems  Current Credit Balance  Maximum Open Credit  \\\n",
       "5                         1.0                122170.0             272052.0   \n",
       "6                         0.0                437171.0             555038.0   \n",
       "12                        1.0                 28291.0             107052.0   \n",
       "14                        0.0                813694.0            2004618.0   \n",
       "17                        0.0                 60287.0             126940.0   \n",
       "\n",
       "    Bankruptcies  Tax Liens  charged_off  loan_year  \n",
       "5            1.0        0.0            0         19  \n",
       "6            0.0        0.0            0         22  \n",
       "12           1.0        0.0            0         24  \n",
       "14           0.0        0.0            0         22  \n",
       "17           0.0        0.0            1         17  \n",
       "\n",
       "[5 rows x 21 columns]"
      ]
     },
     "execution_count": 123,
     "metadata": {},
     "output_type": "execute_result"
    }
   ],
   "source": [
    "visual.head()"
   ]
  },
  {
   "cell_type": "markdown",
   "metadata": {},
   "source": [
    "### **Question 6:** Which metrics do you think are good indicators of loan status?  Create a new Dataframe preprocessed_data with all the columns (at least 4) that you determine to be good indicators of loan status."
   ]
  },
  {
   "cell_type": "code",
   "execution_count": 236,
   "metadata": {},
   "outputs": [],
   "source": [
    "# Modify the line below to select your columns\n",
    "selected_columns = ['Months since last delinquent', 'Annual Income', 'Years of Credit History', 'Term']\n",
    "\n",
    "def select_columns():\n",
    "    ft = FunctionTransformer(lambda x: x[selected_columns])\n",
    "    ft.get_feature_names = lambda: selected_columns\n",
    "    return ft"
   ]
  },
  {
   "cell_type": "code",
   "execution_count": 237,
   "metadata": {},
   "outputs": [
    {
     "data": {
      "text/html": [
       "<div>\n",
       "<style scoped>\n",
       "    .dataframe tbody tr th:only-of-type {\n",
       "        vertical-align: middle;\n",
       "    }\n",
       "\n",
       "    .dataframe tbody tr th {\n",
       "        vertical-align: top;\n",
       "    }\n",
       "\n",
       "    .dataframe thead th {\n",
       "        text-align: right;\n",
       "    }\n",
       "</style>\n",
       "<table border=\"1\" class=\"dataframe\">\n",
       "  <thead>\n",
       "    <tr style=\"text-align: right;\">\n",
       "      <th></th>\n",
       "      <th>Months since last delinquent</th>\n",
       "      <th>Annual Income</th>\n",
       "      <th>Years of Credit History</th>\n",
       "      <th>Term</th>\n",
       "    </tr>\n",
       "  </thead>\n",
       "  <tbody>\n",
       "    <tr>\n",
       "      <th>5</th>\n",
       "      <td>10.0</td>\n",
       "      <td>1184194.0</td>\n",
       "      <td>19.6</td>\n",
       "      <td>Short Term</td>\n",
       "    </tr>\n",
       "    <tr>\n",
       "      <th>6</th>\n",
       "      <td>33.0</td>\n",
       "      <td>2559110.0</td>\n",
       "      <td>22.6</td>\n",
       "      <td>Short Term</td>\n",
       "    </tr>\n",
       "    <tr>\n",
       "      <th>12</th>\n",
       "      <td>46.0</td>\n",
       "      <td>693234.0</td>\n",
       "      <td>24.7</td>\n",
       "      <td>Short Term</td>\n",
       "    </tr>\n",
       "    <tr>\n",
       "      <th>14</th>\n",
       "      <td>34.0</td>\n",
       "      <td>1821967.0</td>\n",
       "      <td>22.0</td>\n",
       "      <td>Long Term</td>\n",
       "    </tr>\n",
       "    <tr>\n",
       "      <th>17</th>\n",
       "      <td>53.0</td>\n",
       "      <td>1133274.0</td>\n",
       "      <td>17.4</td>\n",
       "      <td>Long Term</td>\n",
       "    </tr>\n",
       "  </tbody>\n",
       "</table>\n",
       "</div>"
      ],
      "text/plain": [
       "    Months since last delinquent  Annual Income  Years of Credit History  \\\n",
       "5                           10.0      1184194.0                     19.6   \n",
       "6                           33.0      2559110.0                     22.6   \n",
       "12                          46.0       693234.0                     24.7   \n",
       "14                          34.0      1821967.0                     22.0   \n",
       "17                          53.0      1133274.0                     17.4   \n",
       "\n",
       "          Term  \n",
       "5   Short Term  \n",
       "6   Short Term  \n",
       "12  Short Term  \n",
       "14   Long Term  \n",
       "17   Long Term  "
      ]
     },
     "execution_count": 237,
     "metadata": {},
     "output_type": "execute_result"
    }
   ],
   "source": [
    "# Review the feature building pipeline to ensure that it looks as you expect\n",
    "select_pipeline = make_pipeline(select_columns())\n",
    "select_pipeline.fit_transform(data_clean).head()"
   ]
  },
  {
   "cell_type": "markdown",
   "metadata": {
    "deletable": false,
    "editable": false
   },
   "source": [
    "<!--\n",
    "BEGIN QUESTION\n",
    "name: q6a_select_columns\n",
    "manual: false\n",
    "points: 1\n",
    "-->"
   ]
  },
  {
   "cell_type": "code",
   "execution_count": 238,
   "metadata": {
    "deletable": false,
    "editable": false
   },
   "outputs": [
    {
     "data": {
      "text/html": [
       "\n",
       "    \n",
       "    \n",
       "        <p>All tests passed!</p>\n",
       "    \n",
       "    "
      ],
      "text/plain": [
       "\n",
       "    All tests passed!\n",
       "    "
      ]
     },
     "execution_count": 238,
     "metadata": {},
     "output_type": "execute_result"
    }
   ],
   "source": [
    "grader.check(\"q6a_select_columns\")"
   ]
  },
  {
   "cell_type": "markdown",
   "metadata": {},
   "source": [
    "### **Question 7:** Are the numerical features useful for prediction in their current form? Modify the code below to ensure the numerical features are formatted suitably."
   ]
  },
  {
   "cell_type": "code",
   "execution_count": 239,
   "metadata": {},
   "outputs": [
    {
     "data": {
      "text/html": [
       "<div>\n",
       "<style scoped>\n",
       "    .dataframe tbody tr th:only-of-type {\n",
       "        vertical-align: middle;\n",
       "    }\n",
       "\n",
       "    .dataframe tbody tr th {\n",
       "        vertical-align: top;\n",
       "    }\n",
       "\n",
       "    .dataframe thead th {\n",
       "        text-align: right;\n",
       "    }\n",
       "</style>\n",
       "<table border=\"1\" class=\"dataframe\">\n",
       "  <thead>\n",
       "    <tr style=\"text-align: right;\">\n",
       "      <th></th>\n",
       "      <th>Months since last delinquent</th>\n",
       "      <th>Annual Income</th>\n",
       "      <th>Years of Credit History</th>\n",
       "      <th>Term</th>\n",
       "    </tr>\n",
       "  </thead>\n",
       "  <tbody>\n",
       "    <tr>\n",
       "      <th>0</th>\n",
       "      <td>0.0731106</td>\n",
       "      <td>-0.289301</td>\n",
       "      <td>-1.13797</td>\n",
       "      <td>Short Term</td>\n",
       "    </tr>\n",
       "    <tr>\n",
       "      <th>1</th>\n",
       "      <td>0.522191</td>\n",
       "      <td>1.17457</td>\n",
       "      <td>-0.0881591</td>\n",
       "      <td>Short Term</td>\n",
       "    </tr>\n",
       "    <tr>\n",
       "      <th>2</th>\n",
       "      <td>0.836548</td>\n",
       "      <td>-0.812026</td>\n",
       "      <td>0.505211</td>\n",
       "      <td>Short Term</td>\n",
       "    </tr>\n",
       "    <tr>\n",
       "      <th>3</th>\n",
       "      <td>0.432375</td>\n",
       "      <td>0.389737</td>\n",
       "      <td>-0.0425153</td>\n",
       "      <td>Long Term</td>\n",
       "    </tr>\n",
       "    <tr>\n",
       "      <th>4</th>\n",
       "      <td>-0.256215</td>\n",
       "      <td>-0.343515</td>\n",
       "      <td>0.824718</td>\n",
       "      <td>Long Term</td>\n",
       "    </tr>\n",
       "  </tbody>\n",
       "</table>\n",
       "</div>"
      ],
      "text/plain": [
       "  Months since last delinquent Annual Income Years of Credit History  \\\n",
       "0                    0.0731106     -0.289301                -1.13797   \n",
       "1                     0.522191       1.17457              -0.0881591   \n",
       "2                     0.836548     -0.812026                0.505211   \n",
       "3                     0.432375      0.389737              -0.0425153   \n",
       "4                    -0.256215     -0.343515                0.824718   \n",
       "\n",
       "         Term  \n",
       "0  Short Term  \n",
       "1  Short Term  \n",
       "2  Short Term  \n",
       "3   Long Term  \n",
       "4   Long Term  "
      ]
     },
     "execution_count": 239,
     "metadata": {},
     "output_type": "execute_result"
    }
   ],
   "source": [
    "def numerical_transforms():\n",
    "    return ColumnTransformer([\n",
    "        # Edit this section so that it includes your chosen features\n",
    "        ('Years of Credit History', StandardScaler(), ['Years of Credit History']),\n",
    "        ('Annual Income', StandardScaler(), ['Annual Income']),\n",
    "        ('Months since last delinquent', StandardScaler(), ['Months since last delinquent'])],\n",
    "        remainder='passthrough')\n",
    "\n",
    "# Review the feature building pipeline to ensure that it looks as you expect\n",
    "num_pipeline = make_pipeline(select_columns(), numerical_transforms())\n",
    "pd.DataFrame(num_pipeline.fit_transform(data_clean), columns=selected_columns).head()"
   ]
  },
  {
   "cell_type": "markdown",
   "metadata": {
    "deletable": false,
    "editable": false
   },
   "source": [
    "<!--\n",
    "BEGIN QUESTION\n",
    "name: q7a_numerical_transform_columns\n",
    "manual: false\n",
    "points: 1\n",
    "-->"
   ]
  },
  {
   "cell_type": "code",
   "execution_count": 240,
   "metadata": {
    "deletable": false,
    "editable": false
   },
   "outputs": [
    {
     "data": {
      "text/html": [
       "\n",
       "    \n",
       "    \n",
       "        <p>All tests passed!</p>\n",
       "    \n",
       "    "
      ],
      "text/plain": [
       "\n",
       "    All tests passed!\n",
       "    "
      ]
     },
     "execution_count": 240,
     "metadata": {},
     "output_type": "execute_result"
    }
   ],
   "source": [
    "grader.check(\"q7a_numerical_transform_columns\")"
   ]
  },
  {
   "cell_type": "markdown",
   "metadata": {
    "deletable": false,
    "editable": false
   },
   "source": [
    "<!--\n",
    "BEGIN QUESTION\n",
    "name: q7b_numerical_transform_rows\n",
    "manual: false\n",
    "points: 1\n",
    "-->"
   ]
  },
  {
   "cell_type": "code",
   "execution_count": 241,
   "metadata": {
    "deletable": false,
    "editable": false
   },
   "outputs": [
    {
     "data": {
      "text/html": [
       "\n",
       "    \n",
       "    \n",
       "        <p>All tests passed!</p>\n",
       "    \n",
       "    "
      ],
      "text/plain": [
       "\n",
       "    All tests passed!\n",
       "    "
      ]
     },
     "execution_count": 241,
     "metadata": {},
     "output_type": "execute_result"
    }
   ],
   "source": [
    "grader.check(\"q7b_numerical_transform_rows\")"
   ]
  },
  {
   "cell_type": "markdown",
   "metadata": {},
   "source": [
    "### **Question 8:** Convert all your non-numerical features to numerical form that you believe would be useful for your model."
   ]
  },
  {
   "cell_type": "code",
   "execution_count": 242,
   "metadata": {
    "scrolled": false
   },
   "outputs": [
    {
     "data": {
      "text/plain": [
       "array([[0.0, 1.0, 0.0731106194201689, -0.2893006412556588,\n",
       "        -1.1379680902982923],\n",
       "       [0.0, 1.0, 0.5221911635695661, 1.174573074456599,\n",
       "        -0.08815912184941284],\n",
       "       [0.0, 1.0, 0.8365475444741438, -0.8120259855429389,\n",
       "        0.5052111646651711],\n",
       "       [1.0, 0.0, 0.43237505473968646, 0.38973657359306924,\n",
       "        -0.0425152536559833],\n",
       "       [1.0, 0.0, -0.25621511295605615, -0.34351518934737363,\n",
       "        0.8247182420191779]], dtype=object)"
      ]
     },
     "execution_count": 242,
     "metadata": {},
     "output_type": "execute_result"
    }
   ],
   "source": [
    "def categorical_transforms():\n",
    "    # Edit this ColumnTransformer to account for your chosen features\n",
    "    return ColumnTransformer([\n",
    "        ('Term', OneHotEncoder(sparse=False), [list(selected_columns).index('Term')])],\n",
    "        remainder='passthrough')\n",
    "\n",
    "full_pipeline = make_pipeline(select_columns(), numerical_transforms(), categorical_transforms())\n",
    "\n",
    "# Review the feature building pipeline to ensure that it looks as you expect\n",
    "full_pipeline.fit_transform(data_clean)[:5]\n"
   ]
  },
  {
   "cell_type": "markdown",
   "metadata": {
    "deletable": false,
    "editable": false
   },
   "source": [
    "<!--\n",
    "BEGIN QUESTION\n",
    "name: q8a_categorical_transform_rows\n",
    "manual: false\n",
    "points: 1\n",
    "-->"
   ]
  },
  {
   "cell_type": "code",
   "execution_count": 243,
   "metadata": {
    "deletable": false,
    "editable": false
   },
   "outputs": [
    {
     "data": {
      "text/html": [
       "\n",
       "    \n",
       "    \n",
       "        <p>All tests passed!</p>\n",
       "    \n",
       "    "
      ],
      "text/plain": [
       "\n",
       "    All tests passed!\n",
       "    "
      ]
     },
     "execution_count": 243,
     "metadata": {},
     "output_type": "execute_result"
    }
   ],
   "source": [
    "grader.check(\"q8a_categorical_transform_rows\")"
   ]
  },
  {
   "cell_type": "markdown",
   "metadata": {},
   "source": [
    "# Part 4: Model Building"
   ]
  },
  {
   "cell_type": "markdown",
   "metadata": {},
   "source": [
    "We are now ready to build a model. We tranform the cleaned data from Part 1 using the features defined in Part 3. Then we split it into training, validation, and test data sets. Before fitting, we balance the data by resampling to achieve an equal number of positive and negative outcomes in each data set."
   ]
  },
  {
   "cell_type": "code",
   "execution_count": 244,
   "metadata": {},
   "outputs": [],
   "source": [
    "full_pipeline.fit(data_clean)\n",
    "X = full_pipeline.transform(data_clean)\n",
    "y = data_clean['Loan Status'] == 'Fully Paid'\n",
    "\n",
    "X_train, X_test, y_train, y_test = train_test_split(X, y, test_size=0.25, random_state=42)\n",
    "X_validation, X_test, y_validation, y_test = train_test_split(X_test, y_test, test_size=0.34, random_state=43)\n",
    "\n",
    "def upsample(X, y):\n",
    "    each_ct = len(y[y])\n",
    "    assert len(y[~y]) < each_ct\n",
    "    X0, y0 = sklearn.utils.resample(X[~y], y[~y], replace=True, n_samples=each_ct)\n",
    "    X1, y1 = X[y], y[y]\n",
    "    return np.concatenate([X0, X1]), np.concatenate([y0, y1])\n",
    "\n",
    "X_train, y_train = upsample(X_train, y_train)\n",
    "X_validation, y_validation = upsample(X_validation, y_validation)\n",
    "X_test, y_test = upsample(X_test, y_test)"
   ]
  },
  {
   "cell_type": "markdown",
   "metadata": {},
   "source": [
    "### **Question 9:** Implement and compare three of the following classification models and determine what works best for the problem and your choice of features.\n",
    "1. Logistic Regression\n",
    "2. K-Nearest Neighbors (KNN) \n",
    "3. Support Vector Machines (SVM)\n",
    "4. Perceptron\n",
    "5. XGBoost\n",
    "6. Random Forest\n",
    "\n",
    "Be sure to use:\n",
    "* X_train, y_train to train the models in Question 9a, 9b,..., 9f\n",
    "* X_validation, y_validation to validate the models in Question 9a, 9b,..., 9f\n",
    "* X_test, y_test to test the best model in Question 10"
   ]
  },
  {
   "cell_type": "markdown",
   "metadata": {},
   "source": [
    "#### Question 9a: Logistic Regression"
   ]
  },
  {
   "cell_type": "code",
   "execution_count": 245,
   "metadata": {},
   "outputs": [
    {
     "name": "stdout",
     "output_type": "stream",
     "text": [
      "Logistic Regression validation accuracy: 58.19 %\n"
     ]
    }
   ],
   "source": [
    "# Choose at least for models to implement - your code here\n",
    "\n",
    "logreg = LogisticRegression(max_iter=1000)                                # instantiate\n",
    "logreg.fit(X_train, y_train)                                 \n",
    "y_prediction = logreg.predict(X_validation)                               # predict\n",
    "acc_logreg = sum(y_prediction == y_validation)/len(y_validation)*100      # evaluate\n",
    "\n",
    "print('Logistic Regression validation accuracy:', str(round(acc_logreg,2)),'%')"
   ]
  },
  {
   "cell_type": "markdown",
   "metadata": {},
   "source": [
    "#### Question 9b: KNN"
   ]
  },
  {
   "cell_type": "code",
   "execution_count": 246,
   "metadata": {},
   "outputs": [
    {
     "name": "stdout",
     "output_type": "stream",
     "text": [
      "K-Nearest Neighbors labeling accuracy: 51.7 %\n"
     ]
    }
   ],
   "source": [
    "# Choose at least for models to implement - your code here\n",
    "knn = KNeighborsClassifier(n_neighbors = 3)                  # instantiate\n",
    "knn.fit(X_train, y_train)                                    # fit\n",
    "acc_knn = knn.score(X_validation, y_validation)                            # predict + evaluate\n",
    "print('K-Nearest Neighbors labeling accuracy:', str(round(acc_knn*100,2)),'%')"
   ]
  },
  {
   "cell_type": "markdown",
   "metadata": {},
   "source": [
    "#### Question 9c: SVM"
   ]
  },
  {
   "cell_type": "code",
   "execution_count": 247,
   "metadata": {},
   "outputs": [
    {
     "name": "stdout",
     "output_type": "stream",
     "text": [
      "Support Vector Machines labeling accuracy: 57.97 %\n"
     ]
    }
   ],
   "source": [
    "# Choose at least for models to implement - your code here\n",
    "svc = SVC()                                                  # instantiate\n",
    "svc.fit(X_train, y_train)                                    # fit\n",
    "acc_svc = svc.score(X_validation, y_validation)                            # predict + evaluate\n",
    "\n",
    "print('Support Vector Machines labeling accuracy:', str(round(acc_svc*100,2)),'%')"
   ]
  },
  {
   "cell_type": "markdown",
   "metadata": {},
   "source": [
    "#### Question 9d: Perceptron"
   ]
  },
  {
   "cell_type": "code",
   "execution_count": 248,
   "metadata": {},
   "outputs": [
    {
     "name": "stdout",
     "output_type": "stream",
     "text": [
      "Perceptron labeling accuracy: 51.6 %\n"
     ]
    }
   ],
   "source": [
    "# Choose at least for models to implement - your code here\n",
    "perceptron = Perceptron()                                    # instantiate \n",
    "perceptron.fit(X_train, y_train)                             # fit\n",
    "acc_perceptron = perceptron.score(X_validation, y_validation)              # predict + evalaute\n",
    "\n",
    "print('Perceptron labeling accuracy:', str(round(acc_perceptron*100,2)),'%')"
   ]
  },
  {
   "cell_type": "markdown",
   "metadata": {},
   "source": [
    "#### Question 9e: XGBoost"
   ]
  },
  {
   "cell_type": "code",
   "execution_count": 249,
   "metadata": {},
   "outputs": [
    {
     "name": "stdout",
     "output_type": "stream",
     "text": [
      "XGBoost labeling accuracy: 55.58 %\n"
     ]
    }
   ],
   "source": [
    "# Choose at least for models to implement - your code here\n",
    "# XGBoost, same API as scikit-learn\n",
    "gradboost = xgb.XGBClassifier(n_estimators=1000)             # instantiate\n",
    "gradboost.fit(X_train, y_train)                              # fit\n",
    "acc_xgboost = gradboost.score(X_validation, y_validation)                  # predict + evalute\n",
    "\n",
    "print('XGBoost labeling accuracy:', str(round(acc_xgboost*100,2)),'%')"
   ]
  },
  {
   "cell_type": "markdown",
   "metadata": {},
   "source": [
    "#### Question 9f: Random Forest"
   ]
  },
  {
   "cell_type": "code",
   "execution_count": 250,
   "metadata": {},
   "outputs": [
    {
     "name": "stdout",
     "output_type": "stream",
     "text": [
      "K-Nearest Neighbors labeling accuracy: 51.42 %\n"
     ]
    }
   ],
   "source": [
    "# Choose at least for models to implement - your code here\n",
    "# Random Forest\n",
    "random_forest = RandomForestClassifier(n_estimators=500)   # instantiate\n",
    "random_forest.fit(X_train, y_train)                         # fit\n",
    "acc_rf = random_forest.score(X_validation, y_validation)                  # predict + evaluate\n",
    "\n",
    "print('K-Nearest Neighbors labeling accuracy:', str(round(acc_rf*100,2)),'%')"
   ]
  },
  {
   "cell_type": "markdown",
   "metadata": {},
   "source": [
    "### **Question 10:** Which model has the best performance?"
   ]
  },
  {
   "cell_type": "code",
   "execution_count": 251,
   "metadata": {},
   "outputs": [],
   "source": [
    "best_model = logreg"
   ]
  },
  {
   "cell_type": "code",
   "execution_count": 252,
   "metadata": {},
   "outputs": [
    {
     "name": "stdout",
     "output_type": "stream",
     "text": [
      "The test accuracy of your best model is 58.76\n"
     ]
    }
   ],
   "source": [
    "test_score = best_model.score(X_test, y_test)\n",
    "\n",
    "print(\"The test accuracy of your best model is\", str(round(test_score*100,2)))"
   ]
  },
  {
   "cell_type": "markdown",
   "metadata": {
    "deletable": false,
    "editable": false
   },
   "source": [
    "<!--\n",
    "BEGIN QUESTION\n",
    "name: q10a_test_result\n",
    "manual: false\n",
    "points: 5\n",
    "-->"
   ]
  },
  {
   "cell_type": "code",
   "execution_count": 253,
   "metadata": {
    "deletable": false,
    "editable": false
   },
   "outputs": [
    {
     "data": {
      "text/html": [
       "\n",
       "    \n",
       "    \n",
       "        <p>All tests passed!</p>\n",
       "    \n",
       "    "
      ],
      "text/plain": [
       "\n",
       "    All tests passed!\n",
       "    "
      ]
     },
     "execution_count": 253,
     "metadata": {},
     "output_type": "execute_result"
    }
   ],
   "source": [
    "grader.check(\"q10a_test_result\")"
   ]
  },
  {
   "cell_type": "markdown",
   "metadata": {},
   "source": [
    "### **Question 11:** How does the model perform on reference data?"
   ]
  },
  {
   "cell_type": "markdown",
   "metadata": {
    "deletable": false,
    "editable": false
   },
   "source": [
    "We have included an additional evaluation data set containing values that we have have cleaned for you. Run your preprocessing and feature building pipeline using these features. If you are having trouble getting good results on this part, or on Question 10, go back to your data cleaning."
   ]
  },
  {
   "cell_type": "code",
   "execution_count": 254,
   "metadata": {
    "deletable": false,
    "editable": false
   },
   "outputs": [
    {
     "name": "stdout",
     "output_type": "stream",
     "text": [
      "The accuracy of your best model on reference cleaned data 57.67\n"
     ]
    }
   ],
   "source": [
    "# Compare to an evaluation with the reference solution.\n",
    "eval_data = pd.read_csv(\"hw_eval.csv\")\n",
    "\n",
    "X_eval = full_pipeline.transform(eval_data)\n",
    "y_eval = eval_data['Loan Status'] == 'Fully Paid'\n",
    "\n",
    "eval_score = best_model.score(X_eval, y_eval)\n",
    "\n",
    "print(\"The accuracy of your best model on reference cleaned data\", str(round(eval_score*100,2)))"
   ]
  },
  {
   "cell_type": "markdown",
   "metadata": {
    "deletable": false,
    "editable": false
   },
   "source": [
    "<!--\n",
    "BEGIN QUESTION\n",
    "name: q11a_evalation_result\n",
    "manual: false\n",
    "points: 5\n",
    "-->"
   ]
  },
  {
   "cell_type": "code",
   "execution_count": 255,
   "metadata": {
    "deletable": false,
    "editable": false
   },
   "outputs": [
    {
     "data": {
      "text/html": [
       "\n",
       "    \n",
       "    \n",
       "        <p>All tests passed!</p>\n",
       "    \n",
       "    "
      ],
      "text/plain": [
       "\n",
       "    All tests passed!\n",
       "    "
      ]
     },
     "execution_count": 255,
     "metadata": {},
     "output_type": "execute_result"
    }
   ],
   "source": [
    "grader.check(\"q11a_evalation_result\")"
   ]
  },
  {
   "cell_type": "markdown",
   "metadata": {
    "deletable": false,
    "editable": false
   },
   "source": [
    "# Submit\n",
    "Make sure you have run all cells in your notebook in order before running the cell below, so that all images/graphs appear in the output.\n",
    "**Please restart kernel and run all, then save before submitting!**"
   ]
  }
 ],
 "metadata": {
  "kernelspec": {
   "display_name": "Python 3",
   "language": "python",
   "name": "python3"
  },
  "language_info": {
   "codemirror_mode": {
    "name": "ipython",
    "version": 3
   },
   "file_extension": ".py",
   "mimetype": "text/x-python",
   "name": "python",
   "nbconvert_exporter": "python",
   "pygments_lexer": "ipython3",
   "version": "3.7.6"
  }
 },
 "nbformat": 4,
 "nbformat_minor": 2
}
